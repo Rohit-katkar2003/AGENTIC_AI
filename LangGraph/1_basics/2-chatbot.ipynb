{
 "cells": [
  {
   "cell_type": "markdown",
   "metadata": {},
   "source": [
    "### Implementing simple Chatbot Using LangGraph"
   ]
  },
  {
   "cell_type": "code",
   "execution_count": 3,
   "metadata": {},
   "outputs": [],
   "source": [
    "from typing_extensions import TypedDict\n",
    "\n",
    "from langgraph.graph import StateGraph, START, END\n",
    "\n",
    "## Reducers\n",
    "from typing import Annotated\n",
    "from langgraph.graph.message import add_messages"
   ]
  },
  {
   "cell_type": "code",
   "execution_count": 4,
   "metadata": {},
   "outputs": [],
   "source": [
    "class State(TypedDict):\n",
    "    messages:Annotated[list,add_messages]"
   ]
  },
  {
   "cell_type": "code",
   "execution_count": 7,
   "metadata": {},
   "outputs": [],
   "source": [
    "import os\n",
    "from dotenv import load_dotenv\n",
    "load_dotenv()\n",
    "\n",
    "os.environ[\"GOOGLE_API_KEY\"]=os.getenv(\"GOOGLE_API_KEY\")\n",
    "os.environ[\"GROQ_API_KEY\"]=os.getenv('GROQ_API_KEY')\n",
    "# os.environ[\"GROQ_API_KEY\"] , os.environ[\"GOOGLE_API_KEY\"]"
   ]
  },
  {
   "cell_type": "code",
   "execution_count": 8,
   "metadata": {},
   "outputs": [
    {
     "name": "stdout",
     "output_type": "stream",
     "text": [
      "Imagine your regular computer uses bits, which are like light switches that can be either **ON (1)** or **OFF (0)**. At any given moment, a classical bit is definitively one or the other.\n",
      "\n",
      "Quantum computers work differently, using something called **qubits**. Here's the simple breakdown:\n",
      "\n",
      "1.  **Superposition (Being ON and OFF at the same time!):**\n",
      "    *   Instead of being just ON or OFF, a qubit can be **both ON and OFF simultaneously**. Think of it like a spinning coin in the air – it's neither heads nor tails until it lands.\n",
      "    *   This means a single qubit can hold a lot more information than a classical bit. If you have multiple qubits, the number of possibilities they can represent simultaneously grows exponentially. Two qubits can be 00, 01, 10, and 11 *all at once*.\n",
      "\n",
      "2.  **Entanglement (Linked Destiny):**\n",
      "    *   This is where things get really weird and powerful. Entanglement means that two or more qubits become **linked together in such a way that they share the same fate**, no matter how far apart they are.\n",
      "    *   If you measure one entangled qubit, you instantly know the state of its entangled partner(s). It's like having two truly identical coins: if one lands heads, you *know* the other must also be heads without looking.\n",
      "    *   This allows qubits to perform incredibly complex calculations together.\n",
      "\n",
      "**How does this make them powerful?**\n",
      "\n",
      "Because qubits can be in multiple states at once (superposition) and work together in a deeply connected way (entanglement), a quantum computer can explore **many possible solutions to a problem simultaneously**, rather than trying them one by one like a classical computer.\n",
      "\n",
      "Imagine trying to find the quickest route through a maze:\n",
      "*   **Classical Computer:** Tries one path, if it hits a dead end, it backtracks and tries another.\n",
      "*   **Quantum Computer:** Can effectively \"explore all paths at the same time\" due to superposition, and then use entanglement to find the optimal path much, much faster.\n",
      "\n",
      "**What can quantum computers do that regular computers can't (or struggle with)?**\n",
      "\n",
      "They are not meant to replace your laptop for browsing the internet or writing emails. Instead, they're designed to solve *very specific, incredibly complex problems* that are currently impossible for even the most powerful supercomputers, such as:\n",
      "\n",
      "*   **Drug Discovery & Materials Science:** Simulating complex molecules and designing new materials or medicines at an atomic level (since atoms themselves operate by quantum rules).\n",
      "*   **Cryptography:** Breaking current encryption methods, but also creating new, unhackable ones.\n",
      "*   **Optimization:** Finding the absolute best solution from an astronomical number of possibilities (e.g., optimizing logistics, financial modeling, traffic flow).\n",
      "*   **Artificial Intelligence:** Enhancing machine learning algorithms to process vast amounts of data more efficiently.\n",
      "\n",
      "**In essence:** Quantum computing uses the strange rules of quantum physics (superposition and entanglement) to create a fundamentally new way of processing information, opening the door to solving problems that are currently beyond our reach. It's still a very new field, but its potential is enormous.\n"
     ]
    }
   ],
   "source": [
    "import google.generativeai as genai\n",
    "\n",
    "# Configure with your API key\n",
    "genai.configure(api_key=os.environ[\"GOOGLE_API_KEY\"])\n",
    "\n",
    "# Initialize the model\n",
    "model = genai.GenerativeModel('gemini-2.5-flash')\n",
    "\n",
    "# Generate content\n",
    "response = model.generate_content(\"Explain quantum computing in simple terms\")\n",
    "print(response.text)"
   ]
  },
  {
   "cell_type": "code",
   "execution_count": 12,
   "metadata": {},
   "outputs": [
    {
     "data": {
      "text/plain": [
       "AIMessage(content='Hey Rohit! 👋🏼 It’s great to meet another cricket fan. How long have you been playing? Do you have a favorite position (batsman, bowler, all‑rounder) or a player you look up to? Whether you’re into the IPL, international cricket, or just backyard games, I’d love to hear more about your love for the sport!', additional_kwargs={'reasoning_content': 'We need to respond to user: \"Hey I am Rohit and i like to play cricket\". The user is just greeting and stating interest. We can respond warmly, ask about their cricket experience, favorite player, etc. We should maintain friendly tone. No policy conflict. Let\\'s comply.'}, response_metadata={'token_usage': {'completion_tokens': 146, 'prompt_tokens': 82, 'total_tokens': 228, 'completion_time': 0.145732898, 'prompt_time': 0.00451855, 'queue_time': 0.04234766, 'total_time': 0.150251448}, 'model_name': 'openai/gpt-oss-20b', 'system_fingerprint': 'fp_3d587a02fb', 'service_tier': 'on_demand', 'finish_reason': 'stop', 'logprobs': None}, id='run--1040e718-f06f-42b6-8480-df35ca582786-0', usage_metadata={'input_tokens': 82, 'output_tokens': 146, 'total_tokens': 228})"
      ]
     },
     "execution_count": 12,
     "metadata": {},
     "output_type": "execute_result"
    }
   ],
   "source": [
    "from langchain_groq import ChatGroq\n",
    "\n",
    "llm_groq=ChatGroq(model=\"openai/gpt-oss-20b\")\n",
    "llm_groq.invoke(\"Hey I am Rohit and i like to play cricket\")"
   ]
  },
  {
   "cell_type": "markdown",
   "metadata": {},
   "source": [
    "### We Will start With Creating Nodes"
   ]
  },
  {
   "cell_type": "code",
   "execution_count": 13,
   "metadata": {},
   "outputs": [],
   "source": [
    "def superbot(state:State):\n",
    "    return {\"messages\":[llm_groq.invoke(state['messages'])]}"
   ]
  },
  {
   "cell_type": "code",
   "execution_count": 14,
   "metadata": {},
   "outputs": [
    {
     "data": {
      "image/png": "[encoded data removed]",
      "text/plain": [
       "<IPython.core.display.Image object>"
      ]
     },
     "metadata": {},
     "output_type": "display_data"
    }
   ],
   "source": [
    "graph=StateGraph(State)\n",
    "\n",
    "## node\n",
    "graph.add_node(\"SuperBot\",superbot)\n",
    "## Edges\n",
    "\n",
    "graph.add_edge(START,\"SuperBot\")\n",
    "graph.add_edge(\"SuperBot\",END)\n",
    "\n",
    "\n",
    "graph_builder=graph.compile()\n",
    "\n",
    "\n",
    "## Display\n",
    "from IPython.display import Image, display\n",
    "display(Image(graph_builder.get_graph().draw_mermaid_png()))"
   ]
  },
  {
   "cell_type": "code",
   "execution_count": 16,
   "metadata": {},
   "outputs": [
    {
     "data": {
      "text/plain": [
       "{'messages': [HumanMessage(content='Hi,My name is Rohit And I like cricket', additional_kwargs={}, response_metadata={}, id='2c09cac7-3e4d-4072-be35-dea1b496f30d'),\n",
       "  AIMessage(content=\"Hey Rohit! 👋 Great to meet you. Cricket’s a fantastic sport—so many exciting moments. Do you play it, follow a particular team, or have a favorite player? I'd love to hear more about what you love about the game!\", additional_kwargs={'reasoning_content': 'The user says: \"Hi,My name is Rohit And I like cricket\". They just introduced themselves. The user might want a response. We should respond warmly, maybe ask about cricket or something. The user is named Rohit. They like cricket. We can respond: \"Hello Rohit! Great to meet you. What do you like about cricket? Do you play or follow any teams?\" We should keep the conversation friendly. The user might want to continue. We can ask about their favorite team or player. Let\\'s respond accordingly.'}, response_metadata={'token_usage': {'completion_tokens': 170, 'prompt_tokens': 82, 'total_tokens': 252, 'completion_time': 0.179316051, 'prompt_time': 0.004056872, 'queue_time': 0.042358288, 'total_time': 0.183372923}, 'model_name': 'openai/gpt-oss-20b', 'system_fingerprint': 'fp_e99e93f2ac', 'service_tier': 'on_demand', 'finish_reason': 'stop', 'logprobs': None}, id='run--45d66c45-8b30-4e92-954f-841f0940e0fe-0', usage_metadata={'input_tokens': 82, 'output_tokens': 170, 'total_tokens': 252})]}"
      ]
     },
     "execution_count": 16,
     "metadata": {},
     "output_type": "execute_result"
    }
   ],
   "source": [
    "## Invocation\n",
    "\n",
    "graph_builder.invoke({'messages':\"Hi,My name is Rohit And I like cricket\"})"
   ]
  },
  {
   "cell_type": "markdown",
   "metadata": {},
   "source": [
    "#### Streaming The responses"
   ]
  },
  {
   "cell_type": "code",
   "execution_count": 18,
   "metadata": {},
   "outputs": [
    {
     "name": "stdout",
     "output_type": "stream",
     "text": [
      "{'SuperBot': {'messages': [AIMessage(content='Hello Rohit! 👋 How can I assist you today?', additional_kwargs={'reasoning_content': 'The user says \"Hello My name is Rohit\". We should respond politely, maybe ask how we can help. The user hasn\\'t asked a question yet. We need to greet them, maybe ask what they need. We\\'ll keep it friendly.'}, response_metadata={'token_usage': {'completion_tokens': 71, 'prompt_tokens': 77, 'total_tokens': 148, 'completion_time': 0.070300514, 'prompt_time': 0.005559272, 'queue_time': 0.047373984, 'total_time': 0.075859786}, 'model_name': 'openai/gpt-oss-20b', 'system_fingerprint': 'fp_3d587a02fb', 'service_tier': 'on_demand', 'finish_reason': 'stop', 'logprobs': None}, id='run--2a5da92d-117f-405a-a608-69146875a359-0', usage_metadata={'input_tokens': 77, 'output_tokens': 71, 'total_tokens': 148})]}}\n"
     ]
    }
   ],
   "source": [
    "for event in graph_builder.stream({\"messages\":\"Hello My name is Rohit\"}):\n",
    "    print(event)"
   ]
  }
 ],
 "metadata": {
  "kernelspec": {
   "display_name": "langchain_env",
   "language": "python",
   "name": "python3"
  },
  "language_info": {
   "codemirror_mode": {
    "name": "ipython",
    "version": 3
   },
   "file_extension": ".py",
   "mimetype": "text/x-python",
   "name": "python",
   "nbconvert_exporter": "python",
   "pygments_lexer": "ipython3",
   "version": "3.10.16"
  }
 },
 "nbformat": 4,
 "nbformat_minor": 2
}
