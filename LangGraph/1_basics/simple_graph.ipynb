{
 "cells": [
  {
   "cell_type": "markdown",
   "id": "cc3af67a",
   "metadata": {},
   "source": [
    "### Building Simple LangGraph Workflow  \n",
    "\n",
    "explaining workflow in simple language: \n",
    "1. Node :--> it is just Python function --> Task\n",
    "2. Edges :--> connects the Nodes --> conditional Edges \n",
    "3. state :--> state schema serve as i/p for all the nodes and Edges \n",
    "4. stategraph :--> structure of the entire graph"
   ]
  },
  {
   "cell_type": "markdown",
   "id": "67ca3cfb",
   "metadata": {},
   "source": [
    "### In Detail Explaination\n",
    "\n",
    "#### state\n",
    "first, define the state of graph.\n",
    "\n",
    "the state schema is served as input schema for all Nodes and Edges in graph \n",
    "\n",
    "Let's use the Typeddict class from python's typing module as our schema, which provides type hints for the keys. "
   ]
  },
  {
   "cell_type": "code",
   "execution_count": null,
   "id": "119031a0",
   "metadata": {},
   "outputs": [],
   "source": [
    "## creating the state \n",
    "from typing_extensions import TypedDict \n",
    "class State(TypedDict): \n",
    "    graph_info:str"
   ]
  },
  {
   "cell_type": "markdown",
   "id": "520fd8ca",
   "metadata": {},
   "source": [
    "#### Nodes \n",
    "- Nodes are just python function. \n",
    "- the first positional argument is the state, is defined above.\n",
    "- Because the state is TypedDict with the schema as defined above, each node can access the key, graph state, with state['graph_state'] \n",
    "- each node returns a new value of state key graph_state. \n",
    "- By default, new value returned by each node will override the prior value."
   ]
  },
  {
   "cell_type": "code",
   "execution_count": null,
   "id": "68152ed9",
   "metadata": {},
   "outputs": [],
   "source": [
    " "
   ]
  },
  {
   "cell_type": "code",
   "execution_count": null,
   "id": "f0b79769",
   "metadata": {},
   "outputs": [],
   "source": []
  },
  {
   "cell_type": "code",
   "execution_count": null,
   "id": "1d6bcc22",
   "metadata": {},
   "outputs": [],
   "source": []
  }
 ],
 "metadata": {
  "kernelspec": {
   "display_name": "AI",
   "language": "python",
   "name": "python3"
  },
  "language_info": {
   "codemirror_mode": {
    "name": "ipython",
    "version": 3
   },
   "file_extension": ".py",
   "mimetype": "text/x-python",
   "name": "python",
   "nbconvert_exporter": "python",
   "pygments_lexer": "ipython3",
   "version": "3.13.0"
  }
 },
 "nbformat": 4,
 "nbformat_minor": 5
}
